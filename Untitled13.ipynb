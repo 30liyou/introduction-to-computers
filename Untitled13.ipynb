{
  "nbformat": 4,
  "nbformat_minor": 0,
  "metadata": {
    "colab": {
      "provenance": [],
      "authorship_tag": "ABX9TyOLKbnsPWtKzn/XarSkcCBd",
      "include_colab_link": true
    },
    "kernelspec": {
      "name": "python3",
      "display_name": "Python 3"
    },
    "language_info": {
      "name": "python"
    }
  },
  "cells": [
    {
      "cell_type": "markdown",
      "metadata": {
        "id": "view-in-github",
        "colab_type": "text"
      },
      "source": [
        "<a href=\"https://colab.research.google.com/github/30liyou/introduction-to-computers/blob/main/Untitled13.ipynb\" target=\"_parent\"><img src=\"https://colab.research.google.com/assets/colab-badge.svg\" alt=\"Open In Colab\"/></a>"
      ]
    },
    {
      "cell_type": "code",
      "source": [
        "count = 0\n",
        "while count < 9:\n",
        "   print(\"Happy\")\n",
        "   count += 1"
      ],
      "metadata": {
        "colab": {
          "base_uri": "https://localhost:8080/"
        },
        "id": "L4hrB0axH_N6",
        "outputId": "c59b5ddc-7d57-46ff-98b9-1858c5bbcb5a"
      },
      "execution_count": 4,
      "outputs": [
        {
          "output_type": "stream",
          "name": "stdout",
          "text": [
            "Happy\n",
            "Happy\n",
            "Happy\n",
            "Happy\n",
            "Happy\n",
            "Happy\n",
            "Happy\n",
            "Happy\n",
            "Happy\n"
          ]
        }
      ]
    },
    {
      "cell_type": "code",
      "source": [
        "for i in range(9):\n",
        "  print(\"Happy\")"
      ],
      "metadata": {
        "colab": {
          "base_uri": "https://localhost:8080/"
        },
        "id": "I5WjG2iiIaCn",
        "outputId": "ebbff404-a109-4b79-b36d-6f822e0a5617"
      },
      "execution_count": 5,
      "outputs": [
        {
          "output_type": "stream",
          "name": "stdout",
          "text": [
            "Happy\n",
            "Happy\n",
            "Happy\n",
            "Happy\n",
            "Happy\n",
            "Happy\n",
            "Happy\n",
            "Happy\n",
            "Happy\n"
          ]
        }
      ]
    },
    {
      "cell_type": "code",
      "execution_count": 1,
      "metadata": {
        "colab": {
          "base_uri": "https://localhost:8080/"
        },
        "id": "mxTegOpaAeZ-",
        "outputId": "5e780055-0b52-4492-cf29-cfdfe882e558"
      },
      "outputs": [
        {
          "output_type": "stream",
          "name": "stdout",
          "text": [
            "猜猜看 我心裡想的是哪個數字!\n",
            "輸入一個數字:21\n",
            "恭喜你,猜對了!\n"
          ]
        }
      ],
      "source": [
        "secret_number = 21\n",
        "print(\"猜猜看 我心裡想的是哪個數字!\")\n",
        "while int(input(\"輸入一個數字:\")) != secret_number:\n",
        "       print(\"猜錯了,再試一次!\")\n",
        "print(\"恭喜你,猜對了!\")"
      ]
    },
    {
      "cell_type": "code",
      "source": [
        "for j in range(5):\n",
        "  if j ==3: break\n",
        "  print(j)\n",
        "print('Bye!')"
      ],
      "metadata": {
        "colab": {
          "base_uri": "https://localhost:8080/"
        },
        "id": "jBrX0MkmE4lu",
        "outputId": "f2a21d4e-349f-4141-855c-d48ca7e14cef"
      },
      "execution_count": 2,
      "outputs": [
        {
          "output_type": "stream",
          "name": "stdout",
          "text": [
            "0\n",
            "1\n",
            "2\n",
            "Bye!\n"
          ]
        }
      ]
    },
    {
      "cell_type": "code",
      "source": [
        "for j in range(5):\n",
        "  if j==3: continue\n",
        "  print(j)\n",
        "print('Bye!')"
      ],
      "metadata": {
        "colab": {
          "base_uri": "https://localhost:8080/"
        },
        "id": "hNxNVRt8F2WU",
        "outputId": "47961600-2ead-418c-eee5-8f645483d98e"
      },
      "execution_count": 3,
      "outputs": [
        {
          "output_type": "stream",
          "name": "stdout",
          "text": [
            "0\n",
            "1\n",
            "2\n",
            "4\n",
            "Bye!\n"
          ]
        }
      ]
    },
    {
      "cell_type": "code",
      "source": [
        "print(\"411555021 關川侑里\")"
      ],
      "metadata": {
        "colab": {
          "base_uri": "https://localhost:8080/"
        },
        "id": "nTp-8eWfGIjs",
        "outputId": "8e32d5c8-91e1-4802-98d3-3a0ec8220fa7"
      },
      "execution_count": 6,
      "outputs": [
        {
          "output_type": "stream",
          "name": "stdout",
          "text": [
            "411555021 關川侑里\n"
          ]
        }
      ]
    },
    {
      "cell_type": "code",
      "source": [],
      "metadata": {
        "id": "Bl_NNFb2I57r"
      },
      "execution_count": null,
      "outputs": []
    }
  ]
}