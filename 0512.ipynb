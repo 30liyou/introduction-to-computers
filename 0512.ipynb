{
  "nbformat": 4,
  "nbformat_minor": 0,
  "metadata": {
    "colab": {
      "provenance": [],
      "authorship_tag": "ABX9TyPj4EviYg3s/oHa9r3gXqgR",
      "include_colab_link": true
    },
    "kernelspec": {
      "name": "python3",
      "display_name": "Python 3"
    },
    "language_info": {
      "name": "python"
    }
  },
  "cells": [
    {
      "cell_type": "markdown",
      "metadata": {
        "id": "view-in-github",
        "colab_type": "text"
      },
      "source": [
        "<a href=\"https://colab.research.google.com/github/30liyou/introduction-to-computers/blob/main/0512.ipynb\" target=\"_parent\"><img src=\"https://colab.research.google.com/assets/colab-badge.svg\" alt=\"Open In Colab\"/></a>"
      ]
    },
    {
      "cell_type": "code",
      "execution_count": 1,
      "metadata": {
        "colab": {
          "base_uri": "https://localhost:8080/"
        },
        "id": "Ym59PEXn-Qeg",
        "outputId": "6404316b-3f1f-47b2-e4d7-32c1cb5f7251"
      },
      "outputs": [
        {
          "output_type": "stream",
          "name": "stdout",
          "text": [
            "請輸入整數:43\n",
            "奇數\n",
            "Bye!\n"
          ]
        }
      ],
      "source": [
        "num = int(input(\"請輸入整數:\"))\n",
        "if num % 2 ==0:\n",
        "  print(\"偶數\")\n",
        "else:\n",
        "  print(\"奇數\")\n",
        "print(\"Bye!!\")"
      ]
    },
    {
      "cell_type": "code",
      "source": [
        "age = int(input(\"請輸入您的年齡:\"))\n",
        "if age < 18:\n",
        "     print(\"未成年人\")\n",
        "elif age >= 18 and age <= 65:\n",
        "     print(\"成年人\")\n",
        "else:\n",
        "     print(\"老年人\")"
      ],
      "metadata": {
        "colab": {
          "base_uri": "https://localhost:8080/"
        },
        "id": "JoBZ55uIAfoG",
        "outputId": "d1c5cc15-2ff2-4d67-ad8a-bac7d84eaca2"
      },
      "execution_count": 3,
      "outputs": [
        {
          "output_type": "stream",
          "name": "stdout",
          "text": [
            "請輸入您的年齡:65\n",
            "成年人\n"
          ]
        }
      ]
    },
    {
      "cell_type": "code",
      "source": [
        "month = int(input(\"請輸入月份:\"))\n",
        "if month >= 1 and month <= 3:\n",
        "  print(\"春季\")\n",
        "elif month >= 4 and month <= 6:\n",
        "  print(\"夏季\")\n",
        "elif month >= 7 and month <= 9:\n",
        "  print(\"秋季\")\n",
        "elif month >= 10 and month <=12: \n",
        "  print(\"冬天\")\n",
        "else:\n",
        "  print(\"無效月份\")"
      ],
      "metadata": {
        "colab": {
          "base_uri": "https://localhost:8080/"
        },
        "id": "G5xRUnDoBMBL",
        "outputId": "360737ba-3b81-4ba1-9108-d7e726b9e5b2"
      },
      "execution_count": 8,
      "outputs": [
        {
          "output_type": "stream",
          "name": "stdout",
          "text": [
            "請輸入月份:10\n",
            "冬天\n"
          ]
        }
      ]
    },
    {
      "cell_type": "code",
      "source": [
        "print(\"411555021 關川侑里\")"
      ],
      "metadata": {
        "colab": {
          "base_uri": "https://localhost:8080/"
        },
        "id": "-PGvCoUWC_6M",
        "outputId": "3f84e189-f0c8-4176-d0ce-3f187a0422b7"
      },
      "execution_count": 9,
      "outputs": [
        {
          "output_type": "stream",
          "name": "stdout",
          "text": [
            "411555021 關川侑里\n"
          ]
        }
      ]
    },
    {
      "cell_type": "code",
      "source": [],
      "metadata": {
        "id": "zS5M_NFKEcmo"
      },
      "execution_count": null,
      "outputs": []
    }
  ]
}