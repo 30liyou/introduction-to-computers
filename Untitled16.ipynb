{
  "nbformat": 4,
  "nbformat_minor": 0,
  "metadata": {
    "colab": {
      "provenance": [],
      "authorship_tag": "ABX9TyNHP9grl21HexIzolUhvc4J",
      "include_colab_link": true
    },
    "kernelspec": {
      "name": "python3",
      "display_name": "Python 3"
    },
    "language_info": {
      "name": "python"
    }
  },
  "cells": [
    {
      "cell_type": "markdown",
      "metadata": {
        "id": "view-in-github",
        "colab_type": "text"
      },
      "source": [
        "<a href=\"https://colab.research.google.com/github/30liyou/introduction-to-computers/blob/main/Untitled16.ipynb\" target=\"_parent\"><img src=\"https://colab.research.google.com/assets/colab-badge.svg\" alt=\"Open In Colab\"/></a>"
      ]
    },
    {
      "cell_type": "code",
      "source": [
        "num=int(input(\"請輸入一個正整數:\"))\n",
        "for i in range(1,num+1):\n",
        "      print(i,end=' ')"
      ],
      "metadata": {
        "colab": {
          "base_uri": "https://localhost:8080/"
        },
        "id": "ZAThouJ5TOgj",
        "outputId": "b2910bbc-564a-465b-b8ee-d38895b3bf8c"
      },
      "execution_count": 2,
      "outputs": [
        {
          "output_type": "stream",
          "name": "stdout",
          "text": [
            "請輸入一個正整數:13\n",
            "1 2 3 4 5 6 7 8 9 10 11 12 13 "
          ]
        }
      ]
    },
    {
      "cell_type": "code",
      "source": [
        "n = int(input(\"請輸入一個正整數: \"))\n",
        "total = 0\n",
        "for i in range(1, n+1):\n",
        "      total += i\n",
        "      p_sum = sum(range(1, i+1))\n",
        "      print(\"1到%d的總和為: %d\" % (i,p_sum)) "
      ],
      "metadata": {
        "colab": {
          "base_uri": "https://localhost:8080/"
        },
        "id": "r_vQ2rkgU1PE",
        "outputId": "4df6291f-9337-4cf7-c583-4585d29cfb54"
      },
      "execution_count": 17,
      "outputs": [
        {
          "output_type": "stream",
          "name": "stdout",
          "text": [
            "請輸入一個正整數: 8\n",
            "1到1的總和為: 1\n",
            "1到2的總和為: 3\n",
            "1到3的總和為: 6\n",
            "1到4的總和為: 10\n",
            "1到5的總和為: 15\n",
            "1到6的總和為: 21\n",
            "1到7的總和為: 28\n",
            "1到8的總和為: 36\n"
          ]
        }
      ]
    },
    {
      "cell_type": "code",
      "execution_count": 16,
      "metadata": {
        "colab": {
          "base_uri": "https://localhost:8080/"
        },
        "id": "YLJjEcIBAjSz",
        "outputId": "d7126b11-259a-4565-be2f-43e0ca60e366"
      },
      "outputs": [
        {
          "output_type": "stream",
          "name": "stdout",
          "text": [
            "請輸入字串:panda\n",
            "p A n D a "
          ]
        }
      ],
      "source": [
        "a = input(\"請輸入字串:\")\n",
        "for i in range(len(a)):\n",
        "  if(i % 2 != 0):\n",
        "    print(a[i].upper(),end=' ')\n",
        "  else:\n",
        "    print(a[i].lower(),end=' ')"
      ]
    },
    {
      "cell_type": "code",
      "source": [
        "n = int(input(\"請輸入整數\"))\n",
        "for i in range(1,n+1):\n",
        "      for i in range(i):\n",
        "            print(\"*\",end=\" \")\n",
        "      print()"
      ],
      "metadata": {
        "colab": {
          "base_uri": "https://localhost:8080/"
        },
        "id": "ZM6VV3ynJzA6",
        "outputId": "3c26ba38-29fc-4045-cc4a-93ba4d31e5a3"
      },
      "execution_count": 10,
      "outputs": [
        {
          "output_type": "stream",
          "name": "stdout",
          "text": [
            "請輸入整數5\n",
            "* \n",
            "* * \n",
            "* * * \n",
            "* * * * \n",
            "* * * * * \n"
          ]
        }
      ]
    },
    {
      "cell_type": "code",
      "source": [
        "n = int(input(\":\"))\n",
        "for i in range(1,n+1):\n",
        "      for j in range(i):\n",
        "            print(j+1,end=\" \")\n",
        "      print()"
      ],
      "metadata": {
        "colab": {
          "base_uri": "https://localhost:8080/"
        },
        "id": "ZwcqP4gEKIH4",
        "outputId": "491f6512-4bd1-47d6-d740-3f3c440adcd2"
      },
      "execution_count": 6,
      "outputs": [
        {
          "output_type": "stream",
          "name": "stdout",
          "text": [
            ":5\n",
            "1 \n",
            "1 2 \n",
            "1 2 3 \n",
            "1 2 3 4 \n",
            "1 2 3 4 5 \n"
          ]
        }
      ]
    },
    {
      "cell_type": "code",
      "source": [
        "print(\"411555021 關川侑里\")"
      ],
      "metadata": {
        "colab": {
          "base_uri": "https://localhost:8080/"
        },
        "id": "fFrcd4OtLQjp",
        "outputId": "acd3cfe6-50d4-445a-c835-e2e80c6a18c4"
      },
      "execution_count": 18,
      "outputs": [
        {
          "output_type": "stream",
          "name": "stdout",
          "text": [
            "411555021 關川侑里\n"
          ]
        }
      ]
    },
    {
      "cell_type": "code",
      "source": [],
      "metadata": {
        "id": "d9mQf0djXCzF"
      },
      "execution_count": null,
      "outputs": []
    }
  ]
}