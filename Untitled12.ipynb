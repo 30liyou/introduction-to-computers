{
  "nbformat": 4,
  "nbformat_minor": 0,
  "metadata": {
    "colab": {
      "provenance": [],
      "authorship_tag": "ABX9TyMCKTonKMTko7ZXc3IVqwHx",
      "include_colab_link": true
    },
    "kernelspec": {
      "name": "python3",
      "display_name": "Python 3"
    },
    "language_info": {
      "name": "python"
    }
  },
  "cells": [
    {
      "cell_type": "markdown",
      "metadata": {
        "id": "view-in-github",
        "colab_type": "text"
      },
      "source": [
        "<a href=\"https://colab.research.google.com/github/30liyou/introduction-to-computers/blob/main/Untitled12.ipynb\" target=\"_parent\"><img src=\"https://colab.research.google.com/assets/colab-badge.svg\" alt=\"Open In Colab\"/></a>"
      ]
    },
    {
      "cell_type": "code",
      "execution_count": null,
      "metadata": {
        "colab": {
          "base_uri": "https://localhost:8080/"
        },
        "id": "VIWjt1INxOpY",
        "outputId": "ca9e115c-b53b-48e7-b3d5-53d1eb4431e8"
      },
      "outputs": [
        {
          "output_type": "stream",
          "name": "stdout",
          "text": [
            "0515\n"
          ]
        }
      ],
      "source": [
        "print(\"0515\")"
      ]
    },
    {
      "cell_type": "code",
      "source": [
        "score=int(input(\"score:\"))\n",
        "if score >= 90:\n",
        "  print('Grade is: A')\n",
        "elif score >= 80:\n",
        "  print('Grade is: B')\n",
        "elif score >= 70:\n",
        "  print('Grade is: C')\n",
        "elif score >= 60:\n",
        "  print('Grade is: D')\n",
        "else:\n",
        "  print('Grade is: F')"
      ],
      "metadata": {
        "colab": {
          "base_uri": "https://localhost:8080/"
        },
        "id": "pWcn7x-9y-L3",
        "outputId": "3dfcf7f2-af27-408e-d191-e851db92839f"
      },
      "execution_count": null,
      "outputs": [
        {
          "output_type": "stream",
          "name": "stdout",
          "text": [
            "score:88\n",
            "Grade is: B\n"
          ]
        }
      ]
    },
    {
      "cell_type": "code",
      "source": [
        "rain=str(input(\"今天會下雨嗎?\"))\n",
        "if (rain==\"Y\"or rain==\"y\"):\n",
        "  print(\"記得帶傘\")\n",
        "elif(rain==\"N\"or rain==\"n\"):\n",
        "  print(\"不用帶傘\")\n",
        "else:\n",
        "  print(\"輸入錯誤情重新輸入\")"
      ],
      "metadata": {
        "id": "ZJJzoNAEFNoL",
        "colab": {
          "base_uri": "https://localhost:8080/"
        },
        "outputId": "2a65d8d7-17c8-4c27-ef4f-fb3da0f1c09b"
      },
      "execution_count": 2,
      "outputs": [
        {
          "output_type": "stream",
          "name": "stdout",
          "text": [
            "今天會下雨嗎?y\n",
            "記得帶傘\n"
          ]
        }
      ]
    },
    {
      "cell_type": "code",
      "source": [
        "體溫=int(input(\"請輸入您的體溫:\"))\n",
        "if 體溫 >= 37.5:\n",
        "  print('體溫過高!')\n",
        "elif 體溫 >=37 and 體溫 <=37.4:\n",
        "  print('體溫略高!')\n",
        "elif 體溫 >=34 and 體溫 <=36.4:\n",
        "  print('體溫正常!')\n",
        "else:\n",
        "  print('體溫異常,請重新量測!')"
      ],
      "metadata": {
        "colab": {
          "base_uri": "https://localhost:8080/"
        },
        "id": "wPddZRRbz-WU",
        "outputId": "be686282-d95c-44f8-d3cb-f717a56701d3"
      },
      "execution_count": 12,
      "outputs": [
        {
          "output_type": "stream",
          "name": "stdout",
          "text": [
            "請輸入您的體溫:36\n",
            "體溫正常!\n"
          ]
        }
      ]
    },
    {
      "cell_type": "code",
      "source": [
        "score=int(input(\"請輸入您的成績:\"))\n",
        "if score >=90:\n",
        "  print('A')\n",
        "elif score >=80:\n",
        "  print('B')\n",
        "elif score >=70:\n",
        "  print('C')\n",
        "elif score >=60:\n",
        "  print('D')\n",
        "else:\n",
        "  print('E')"
      ],
      "metadata": {
        "colab": {
          "base_uri": "https://localhost:8080/"
        },
        "id": "N_y9Ctsk4e5o",
        "outputId": "a46c50b3-aaac-4c5a-e6ab-fe69f68baaca"
      },
      "execution_count": 13,
      "outputs": [
        {
          "output_type": "stream",
          "name": "stdout",
          "text": [
            "請輸入您的成績:77\n",
            "C\n"
          ]
        }
      ]
    },
    {
      "cell_type": "code",
      "source": [
        "month=int(input(\"請輸月份:\"))\n",
        "if month >=1 and month <=3:\n",
        "  print((month),'月是春天!')\n",
        "elif month >=4 and month <=6:\n",
        "  print((month),'月是夏天!')\n",
        "elif month >=7 and month <=9:\n",
        "  print((month),'月是秋天!')\n",
        "elif month >=10 and month <=12:\n",
        "  print((month),'月是冬天!')\n",
        "else:\n",
        "  print('月份不在範圍內!')"
      ],
      "metadata": {
        "colab": {
          "base_uri": "https://localhost:8080/"
        },
        "id": "sNIzz9Xx8pzi",
        "outputId": "63f8e4d1-479d-4d39-ad72-09ee193edd4d"
      },
      "execution_count": 14,
      "outputs": [
        {
          "output_type": "stream",
          "name": "stdout",
          "text": [
            "請輸月份:3\n",
            "3 月是春天!\n"
          ]
        }
      ]
    },
    {
      "cell_type": "code",
      "source": [
        "income=int(input(\"請輸入您的收入\"))\n",
        "if income >=2000000:\n",
        "  print(\"付稅金額:\",(income*0.3))\n",
        "elif income >=1000000:\n",
        "  print(\"付稅金額:\",(income*0.21))\n",
        "elif income >=600000:\n",
        "  print(\"付稅金額:\",(income*0.13))\n",
        "elif income >=300000:\n",
        "  print(\"付稅金額:\",(income*0.06))\n",
        "else:\n",
        "  print(\"付稅金額:\",(0))"
      ],
      "metadata": {
        "colab": {
          "base_uri": "https://localhost:8080/"
        },
        "id": "hcjP2G75-Ju7",
        "outputId": "bfbd4778-2d0b-4a5d-ed61-65acba28553f"
      },
      "execution_count": 15,
      "outputs": [
        {
          "output_type": "stream",
          "name": "stdout",
          "text": [
            "請輸入您的收入2000000\n",
            "付稅金額: 600000.0\n"
          ]
        }
      ]
    },
    {
      "cell_type": "code",
      "source": [],
      "metadata": {
        "id": "_ddrgRWfExMk"
      },
      "execution_count": 15,
      "outputs": []
    }
  ]
}